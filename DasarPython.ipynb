{
 "cells": [
  {
   "attachments": {},
   "cell_type": "markdown",
   "metadata": {},
   "source": [
    "# Python\n",
    "\n",
    "python adalah bahasa pemrograman tinggi yang dapat melakukan eksekusi sejumlah intruksi multiguna secara langsung (interpretatif) dengan metode orientasi objek (Object Oriented Programming) serta menggunakan semantik dinamis untuk memberikan tingkat keterbacaan syntax. Sebagai bahasa pemrograman tinggi, python dapat dipelajari dengan mudah karena sudah dilengkapi dengan manajemen memori otomatis (pointer)."
   ]
  },
  {
   "attachments": {},
   "cell_type": "markdown",
   "metadata": {},
   "source": [
    "## Sejarah\n",
    "\n",
    "Bahasa ini muncul pertama kali pada tahun 1991, dirancang oleh seorang bernama Guido van Rossum. Sampai saat ini Python masih dikembangkan oleh Python Software Foundation. Bahasa Python mendukung hampir semua sistem operasi, bahkan untuk sistem operasi Linux, hampir semua distronya sudah menyertakan Python di dalamnya.\n",
    "\n",
    "Dengan kode yang simpel dan mudah diimplementasikan, seorang programmer dapat lebih mengutamakan pengembangan aplikasi yang dibuat, bukan malah sibuk mencari syntax error."
   ]
  },
  {
   "attachments": {},
   "cell_type": "markdown",
   "metadata": {},
   "source": [
    "## Instalasi Python\n",
    "\n",
    "Sebelum kita menggunakan Python, Anda harus menginstalnya terlebih dahulu di sistem operasi komputer. Saat ini Python memiliki 2 versi yang berbeda, yaitu Python versi 3 dan Python versi 2 Disini kita akan belajar bahasa pemrograman Python menggunakan versi 3.\n",
    "\n",
    "Cara menginstal python sangat mudah, ikuti panduan dibawah ini. Dibawah adalah panduan cara instal python di platform Linux, Windows dan Mac OS.\n",
    "\n",
    "### Linux\n",
    "\n",
    "1.\tBuka browser, kunjungi http://www.python.org/downloads/source/\n",
    "2.\tDownload versi terbaru Python berbentuk file zip untuk Unix/Linux\n",
    "3.\tEkstrak file zip yang baru saja di download\n",
    "4.\tEdit file Modules/Setup jika Anda ingin kostumisasi Python\n",
    "5.\tJalankan ./configure script\n",
    "6.\tmake\n",
    "7.\tmake install\n",
    "\n",
    "Langkah ini akan menginstal Python di lokasi standar /usr/local/bin dan library di /usr/local/lib/pythonXX dimana XX adalah versi terbaru Python yang anda gunakan.\n",
    "\n",
    "### Windows\n",
    "\n",
    "1.\tBuka browser, kunjungi http://www.python.org/downloads/windows/\n",
    "2.\tATAU, klik direct link https://www.python.org/ftp/python/3.4.3/python-3.4.3.msi\n",
    "3.\tBuka (klik 2x) file installer python yang baru saja di download\n",
    "4.\tIkuti langkah instalasi sampai selesai\n",
    "\n",
    "### Mac OS\n",
    "\n",
    "1.\tBuka browser, kunjungi http://www.python.org/download/mac/\n",
    "2.\tDownload versi terbaru Python untuk Macintosh\n",
    "3.\tBuka file yang baru saja di download\n",
    "4.\tIkuti langkah instalasi sampai selesai\n",
    "\n",
    "\n",
    "## Syntax Dasar\n",
    "\n",
    "Syntax bahasa Python hampir sama dengan bahasa pemrograman pada umumnya seperti Java atau PHP.\n",
    "Dibawah ini adalah contoh fungsi Python yang digunakan untuk mencetak. Di Python untuk mencetak cukup gunakan fungsi print(), dimana sesuatu yang akan dicetak harus diletakkan diantara kurung buka dan kurung tutup, bahkan di Python versi 2.x Kita tidak harus menggunakan tanda kurung kurawal, cukup pisahkan dengan spasi.\n",
    "\n",
    "Jika ingin mencetak tipe data String langsung, Anda harus memasukanya ke dalam tanda kutip terlebih dahulu."
   ]
  },
  {
   "cell_type": "code",
   "execution_count": 34,
   "metadata": {},
   "outputs": [
    {
     "name": "stdout",
     "output_type": "stream",
     "text": [
      "Universitas Gunadarma\n"
     ]
    }
   ],
   "source": [
    "print(\"Universitas Gunadarma\")"
   ]
  },
  {
   "attachments": {},
   "cell_type": "markdown",
   "metadata": {},
   "source": [
    "## Python Case Sensitivity\n",
    "\n",
    "Python bersifat case sensitif, ini artinya huruf besar dan huruf kecil memiliki perbedaan. Sebagai contoh jika Anda menggunakan fungsi print dengan huruf kecil print() akan berhasil. Lain hal jika anda menggunakan huruf kapital Print() atau PRINT(), akan muncul pesan error.\n",
    "Aturan ini berlaku untuk nama variabel ataupun fungsi-fungsi lainnya."
   ]
  },
  {
   "cell_type": "code",
   "execution_count": 36,
   "metadata": {},
   "outputs": [
    {
     "name": "stdout",
     "output_type": "stream",
     "text": [
      "Hello World\n"
     ]
    }
   ],
   "source": [
    "print(\"Hello World\")"
   ]
  },
  {
   "attachments": {},
   "cell_type": "markdown",
   "metadata": {},
   "source": [
    "## Variabel\n",
    "\n",
    "Variabel adalah lokasi memori yang dicadangkan untuk menyimpan nilai-nilai. Ini berarti bahwa ketika Anda membuat sebuah variabel Anda memesan beberapa ruang di memori. Variabel menyimpan data yang dilakukan selama program dieksekusi, yang nantinya isi dari variabel tersebut dapat diubah oleh operasi - operasi tertentu pada program yang menggunakan variabel.\n",
    "\n",
    "Variabel dapat menyimpan berbagai macam tipe data. Di dalam pemrograman Python, variabel mempunyai sifat yang dinamis, artinya variabel Python tidak perlu didekralasikan tipe data tertentu dan variabel Python dapat diubah saat program dijalankan.\n",
    "\n",
    "Penulisan variabel Python sendiri juga memiliki aturan tertentu, yaitu :\n",
    "\n",
    "1.\tKarakter pertama harus berupa huruf atau garis bawah/underscore _\n",
    "2.\tKarakter selanjutnya dapat berupa huruf, garis bawah/underscore _ atau angka\n",
    "3.\tKarakter pada nama variabel bersifat sensitif (case-sensitif). Artinya huruf kecil dan huruf besar dibedakan. Sebagai contoh, variabel namaDepan dan namadepan adalah variabel yang berbeda."
   ]
  },
  {
   "cell_type": "code",
   "execution_count": 39,
   "metadata": {},
   "outputs": [
    {
     "name": "stdout",
     "output_type": "stream",
     "text": [
      "Rudi Gigih Prabowo\n"
     ]
    }
   ],
   "source": [
    "nama  = \"Rudi Gigih Prabowo\"\n",
    "print (nama)"
   ]
  },
  {
   "attachments": {},
   "cell_type": "markdown",
   "metadata": {},
   "source": [
    "## Operator\n",
    "\n",
    "Operator adalah konstruksi yang dapat memanipulasi nilai dari operan.\n",
    "\n",
    "### Operator Aritmatika\n",
    "\n",
    "Operator Aritmatika berupa +, -, * , /, //, **, %"
   ]
  },
  {
   "cell_type": "code",
   "execution_count": 42,
   "metadata": {},
   "outputs": [
    {
     "name": "stdout",
     "output_type": "stream",
     "text": [
      "3\n"
     ]
    }
   ],
   "source": [
    "x = 15\n",
    "y = 4\n",
    "print(x//y)"
   ]
  },
  {
   "cell_type": "markdown",
   "metadata": {},
   "source": [
    "### Operator Perbandingan\n",
    "\n",
    "Operator perbandingan digunakan untuk membandingkan nilai. Entah mengembalikan True atau False sesuai dengan kondisi.\n",
    "Operator Aritmatika berupa: <,>,==,!=,>=,<="
   ]
  },
  {
   "cell_type": "code",
   "execution_count": 45,
   "metadata": {},
   "outputs": [
    {
     "name": "stdout",
     "output_type": "stream",
     "text": [
      "True\n"
     ]
    }
   ],
   "source": [
    "x = 10\n",
    "y = 12\n",
    "print(x!=y)"
   ]
  },
  {
   "cell_type": "markdown",
   "metadata": {},
   "source": [
    "### Operator Logik\n",
    "\n",
    "Operator logik adalah and, or, not."
   ]
  },
  {
   "cell_type": "code",
   "execution_count": 16,
   "metadata": {},
   "outputs": [
    {
     "name": "stdout",
     "output_type": "stream",
     "text": [
      "False\n"
     ]
    }
   ],
   "source": [
    "x = True\n",
    "y = False\n",
    "print(x and y)"
   ]
  },
  {
   "attachments": {},
   "cell_type": "markdown",
   "metadata": {},
   "source": [
    "## Tipe Data\n",
    "\n",
    "Setiap nilai dalam Python memiliki tipe data. Karena semuanya adalah objek dalam pemrograman Python, tipe data python berupa:\n",
    "\n",
    "### Number\n",
    "\n",
    "Integer, angka floating point dan angka kompleks berada di bawah kategori number. Mereka didefinisikan sebagai kelas int, float, dan kompleks.\n",
    "Kita dapat menggunakan fungsi type () untuk mengetahui kelas mana variabel atau nilai dan fungsi isinstance () untuk memeriksa apakah suatu objek milik kelas tertentu."
   ]
  },
  {
   "cell_type": "code",
   "execution_count": 22,
   "metadata": {},
   "outputs": [
    {
     "name": "stdout",
     "output_type": "stream",
     "text": [
      "5 is of type <class 'int'>\n",
      "(1+2j) is complex number? True\n"
     ]
    }
   ],
   "source": [
    "a = 5\n",
    "print(a, \"is of type\", type(a))\n",
    "\n",
    "a = 1+2j\n",
    "print(a, \"is complex number?\", isinstance(1+2j,complex))"
   ]
  },
  {
   "cell_type": "markdown",
   "metadata": {},
   "source": [
    "### List\n",
    "\n",
    "List adalah urutan item yang dipesan. Ini adalah salah satu tipe data yang paling banyak digunakan dalam Python dan sangat fleksibel. Semua item dalam daftar tidak harus dari jenis yang sama."
   ]
  },
  {
   "cell_type": "code",
   "execution_count": 23,
   "metadata": {},
   "outputs": [
    {
     "name": "stdout",
     "output_type": "stream",
     "text": [
      "a[2] =  15\n",
      "a[0:3] =  [5, 10, 15]\n",
      "a[5:] =  [30, 35, 40]\n"
     ]
    }
   ],
   "source": [
    "a = [5,10,15,20,25,30,35,40]\n",
    "\n",
    "print(\"a[2] = \", a[2])\n",
    "\n",
    "print(\"a[0:3] = \", a[0:3])\n",
    "\n",
    "\n",
    "print(\"a[5:] = \", a[5:])"
   ]
  },
  {
   "cell_type": "markdown",
   "metadata": {},
   "source": [
    "### Tuple\n",
    "\n",
    "Tuple adalah urutan item yang dipesan sama dengan List. Satu-satunya perbedaan adalah bahwa tuple tidak dapat diubah. Tuple yang pernah dibuat tidak dapat dimodifikasi.\n",
    "\n",
    "Tuples digunakan untuk menulis-melindungi data dan biasanya lebih cepat dari List karena tidak dapat berubah secara dinamis."
   ]
  },
  {
   "cell_type": "code",
   "execution_count": 26,
   "metadata": {},
   "outputs": [
    {
     "name": "stdout",
     "output_type": "stream",
     "text": [
      "t[0:3] =  (5, 'program', (1+3j))\n"
     ]
    }
   ],
   "source": [
    "t = (5,'program', 1+3j)\n",
    "\n",
    "#print(\"t[1] = \", t[1])\n",
    "\n",
    "print(\"t[0:3] = \", t[0:3])"
   ]
  },
  {
   "cell_type": "markdown",
   "metadata": {},
   "source": [
    "### String\n",
    "\n",
    "String adalah urutan karakter Unicode. Kita dapat menggunakan tanda kutip tunggal atau kutip ganda untuk mewakili string. String multi-baris dapat dilambangkan dengan menggunakan tanda kutip tiga, '' 'atau \"\" \"."
   ]
  },
  {
   "cell_type": "code",
   "execution_count": 28,
   "metadata": {},
   "outputs": [
    {
     "name": "stdout",
     "output_type": "stream",
     "text": [
      "o\n",
      "world\n"
     ]
    }
   ],
   "source": [
    "s = 'Hello world!'\n",
    "\n",
    "print(s[4])\n",
    "\n",
    "print(s[6:11])"
   ]
  },
  {
   "cell_type": "markdown",
   "metadata": {},
   "source": [
    "### Dictionary\n",
    "\n",
    "Dictionary adalah kumpulan pasangan nilai kunci yang tidak terurut.\n",
    "\n",
    "Ini umumnya digunakan ketika kita memiliki sejumlah besar data. Kamus dioptimalkan untuk mengambil data. Kita harus tahu kunci untuk mengambil nilainya.\n",
    "\n",
    "Dalam Python, Dictionary didefinisikan dalam kurung {} dengan setiap item menjadi pasangan dalam kunci form: nilai. Kunci dan nilai dapat dari jenis apa pun."
   ]
  },
  {
   "cell_type": "code",
   "execution_count": 32,
   "metadata": {},
   "outputs": [
    {
     "name": "stdout",
     "output_type": "stream",
     "text": [
      "<class 'dict'>\n",
      "d[1] =  value\n",
      "d['key'] =  2\n"
     ]
    }
   ],
   "source": [
    "d = {1:'value','key':2}\n",
    "print(type(d))\n",
    "\n",
    "print(\"d[1] = \", d[1]);\n",
    "\n",
    "print(\"d['key'] = \", d['key']);"
   ]
  },
  {
   "cell_type": "code",
   "execution_count": null,
   "metadata": {},
   "outputs": [],
   "source": []
  }
 ],
 "metadata": {
  "kernelspec": {
   "display_name": "Python 3",
   "language": "python",
   "name": "python3"
  },
  "language_info": {
   "codemirror_mode": {
    "name": "ipython",
    "version": 3
   },
   "file_extension": ".py",
   "mimetype": "text/x-python",
   "name": "python",
   "nbconvert_exporter": "python",
   "pygments_lexer": "ipython3",
   "version": "3.7.2"
  }
 },
 "nbformat": 4,
 "nbformat_minor": 2
}
